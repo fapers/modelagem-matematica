{
 "cells": [
  {
   "cell_type": "markdown",
   "source": [
    "# HELLO WORLD"
   ],
   "metadata": {}
  },
  {
   "cell_type": "code",
   "execution_count": 2,
   "source": [
    "print('Hello World!')\r\n",
    "print('Essa é a disciplina de Modelagem Matemática')"
   ],
   "outputs": [
    {
     "output_type": "stream",
     "name": "stdout",
     "text": [
      "Hello World!\n",
      "Essa é a disciplina de Modelagem Matemática\n"
     ]
    }
   ],
   "metadata": {}
  },
  {
   "cell_type": "markdown",
   "source": [
    "# VARIÁVEIS"
   ],
   "metadata": {}
  },
  {
   "cell_type": "code",
   "execution_count": 27,
   "source": [
    "\r\n",
    "a = 1\r\n",
    "# print(type(a))\r\n",
    "b = 1.\r\n",
    "# print(type(b))\r\n",
    "c = 'Fábio'\r\n",
    "# print(type(c))\r\n",
    "d = []\r\n",
    "# print(type(d))\r\n",
    "e = ()\r\n",
    "# print(type(e))\r\n",
    "f = {}\r\n",
    "# print(type(f))\r\n",
    "g = {1,2,3}\r\n",
    "# print(type(g))\r\n",
    "h = '1'\r\n",
    "h = int(h)\r\n",
    "lista = [a,b,c]\r\n",
    "# print(type(lista[2]))\r\n",
    "lista.append('2021')\r\n",
    "len(lista)"
   ],
   "outputs": [
    {
     "output_type": "execute_result",
     "data": {
      "text/plain": [
       "4"
      ]
     },
     "metadata": {},
     "execution_count": 27
    }
   ],
   "metadata": {}
  },
  {
   "cell_type": "markdown",
   "source": [
    "# MATRIZES com lista"
   ],
   "metadata": {}
  },
  {
   "cell_type": "code",
   "execution_count": 38,
   "source": [
    "mat = []\r\n",
    "linhas = 2\r\n",
    "colunas = 3\r\n",
    "for i in range(linhas):\r\n",
    "    lin = []\r\n",
    "    for j in range(colunas):\r\n",
    "        lin.append(\"a\"+str(i+1) + str(j+1))\r\n",
    "    mat.append(lin)\r\n",
    "print(mat)"
   ],
   "outputs": [
    {
     "output_type": "stream",
     "name": "stdout",
     "text": [
      "[['a11', 'a12', 'a13'], ['a21', 'a22', 'a23']]\n"
     ]
    }
   ],
   "metadata": {}
  },
  {
   "cell_type": "code",
   "execution_count": 42,
   "source": [
    "mat[1][-1]"
   ],
   "outputs": [
    {
     "output_type": "execute_result",
     "data": {
      "text/plain": [
       "'a23'"
      ]
     },
     "metadata": {},
     "execution_count": 42
    }
   ],
   "metadata": {}
  },
  {
   "cell_type": "markdown",
   "source": [
    "# CONDICIONANTES"
   ],
   "metadata": {}
  },
  {
   "cell_type": "code",
   "execution_count": 43,
   "source": [
    "a = 1\r\n",
    "if a < 1:\r\n",
    "    print('1')\r\n",
    "else:\r\n",
    "    print('2')"
   ],
   "outputs": [
    {
     "output_type": "stream",
     "name": "stdout",
     "text": [
      "2\n"
     ]
    }
   ],
   "metadata": {}
  },
  {
   "cell_type": "markdown",
   "source": [
    "# FUNÇÕES"
   ],
   "metadata": {}
  },
  {
   "cell_type": "code",
   "execution_count": 44,
   "source": [
    "import numpy as np\r\n",
    "x = np.array([1,2,3,4])\r\n",
    "print(x)"
   ],
   "outputs": [
    {
     "output_type": "stream",
     "name": "stdout",
     "text": [
      "[1 2 3 4]\n"
     ]
    }
   ],
   "metadata": {}
  }
 ],
 "metadata": {
  "orig_nbformat": 4,
  "language_info": {
   "name": "python",
   "version": "3.9.6",
   "mimetype": "text/x-python",
   "codemirror_mode": {
    "name": "ipython",
    "version": 3
   },
   "pygments_lexer": "ipython3",
   "nbconvert_exporter": "python",
   "file_extension": ".py"
  },
  "kernelspec": {
   "name": "python3",
   "display_name": "Python 3.9.6 64-bit ('v-curso': venv)"
  },
  "interpreter": {
   "hash": "ccf3135c8a1cef201d9169588ea034003fb876f61e7f960ea0857bdce39807e9"
  }
 },
 "nbformat": 4,
 "nbformat_minor": 2
}